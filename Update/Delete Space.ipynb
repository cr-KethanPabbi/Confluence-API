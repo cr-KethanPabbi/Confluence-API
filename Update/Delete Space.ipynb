{
 "cells": [
  {
   "cell_type": "code",
   "execution_count": 25,
   "metadata": {},
   "outputs": [],
   "source": [
    "import requests\n",
    "import csv\n",
    "from requests.auth import HTTPBasicAuth\n",
    "import json\n",
    "import sys\n",
    "sys.path.append(\"..\")  # Add the parent directory to the sys.path\n",
    "from config import CR_EMAIL, API_KEY, BASE_URL"
   ]
  },
  {
   "cell_type": "code",
   "execution_count": 33,
   "metadata": {},
   "outputs": [],
   "source": [
    "def read_space_keys(file_path):\n",
    "    try:\n",
    "        with open(file_path, 'r') as file:\n",
    "            space_keys = [line.strip() for line in file.readlines()]\n",
    "        return space_keys\n",
    "    except FileNotFoundError:\n",
    "        print(f\"Error: File '{file_path}' not found.\")\n",
    "        return []"
   ]
  },
  {
   "cell_type": "code",
   "execution_count": 26,
   "metadata": {},
   "outputs": [],
   "source": [
    "def space_updation(space_keys, status, type):\n",
    "    email = CR_EMAIL\n",
    "    api_token = API_KEY\n",
    "    headers = {\n",
    "        \"Accept\": \"application/json\",\n",
    "        \"Content-Type\": \"application/json\"\n",
    "    }\n",
    "    payload = json.dumps({\n",
    "        \"status\": status,\n",
    "        \"type\": type\n",
    "    })\n",
    "\n",
    "    for space_key in space_keys:\n",
    "        url = f\"https://cybereason.atlassian.net/wiki/rest/api/space/{space_key}\"\n",
    "        auth = HTTPBasicAuth(email, api_token)\n",
    "        \n",
    "        try:\n",
    "            response = requests.put(\n",
    "                url,\n",
    "                data=payload,\n",
    "                headers=headers,\n",
    "                auth=auth\n",
    "            )\n",
    "\n",
    "            if response.status_code == 200:\n",
    "                print(f\"Space {space_key}: Success\")\n",
    "            else:\n",
    "                print(f\"Failed to update space {space_key} status. Status code: {response.status_code}\")\n",
    "                print(response.text)\n",
    "        except Exception as e:\n",
    "            print(f\"An error occurred while updating space {space_key}: {e}\")"
   ]
  },
  {
   "cell_type": "code",
   "execution_count": 34,
   "metadata": {},
   "outputs": [
    {
     "name": "stdout",
     "output_type": "stream",
     "text": [
      "696\n"
     ]
    }
   ],
   "source": [
    "# Change status to archived and current\n",
    "STATUS = \"archived\" \n",
    "\n",
    "# Change type to personal and global\n",
    "TYPE = \"personal\"\n",
    "\n",
    "# Use if specific ones. Input list of strings\n",
    "space_key = [\"KEY1\", \"KEY2\", \"KEY3\"]\n",
    "\n",
    "# Use if you have a txt file of all space keys needed to update\n",
    "# space_keys = read_space_keys(\"Space Keys.txt\")\n",
    "# print(len(space_keys))"
   ]
  },
  {
   "cell_type": "code",
   "execution_count": null,
   "metadata": {},
   "outputs": [],
   "source": [
    "space_updation(space_key, STATUS, TYPE)"
   ]
  },
  {
   "cell_type": "code",
   "execution_count": 36,
   "metadata": {},
   "outputs": [],
   "source": [
    "def delete_spaces(space_keys):\n",
    "    auth = HTTPBasicAuth(CR_EMAIL, API_KEY)\n",
    "\n",
    "    headers = {\n",
    "      \"Accept\": \"application/json\"\n",
    "    }\n",
    "\n",
    "    for space_key in space_keys:\n",
    "        # Replace 'your-domain' with your Confluence domain and '<spaceKey>' with the actual space key\n",
    "        url = f\"https://cybereason.atlassian.net/wiki/rest/api/space/{space_key}\"\n",
    "\n",
    "        try:\n",
    "            response = requests.delete(\n",
    "                url,\n",
    "                headers=headers,\n",
    "                auth=auth\n",
    "            )\n",
    "\n",
    "            if response.status_code == 202:\n",
    "                print(f\"Space {space_key} deletion request accepted\")\n",
    "            else:\n",
    "                print(f\"Failed to delete space {space_key}. Status code: {response.status_code}\")\n",
    "                print(response.text)\n",
    "        except Exception as e:\n",
    "            print(f\"An error occurred: {e}\")"
   ]
  },
  {
   "cell_type": "code",
   "execution_count": 30,
   "metadata": {},
   "outputs": [],
   "source": [
    "# Delete specific keys\n",
    "# space_key = [\"SPACE1\", \"SPACE2\", \"SPACE3\"]\n",
    "\n",
    "# Use if you have a txt file of all space keys needed to update\n",
    "# space_keys = read_space_keys(\"Space Keys.txt\")\n",
    "# print(len(space_keys))"
   ]
  },
  {
   "cell_type": "code",
   "execution_count": null,
   "metadata": {},
   "outputs": [],
   "source": [
    "# delete_spaces(space_keys)"
   ]
  }
 ],
 "metadata": {
  "kernelspec": {
   "display_name": "Python 3",
   "language": "python",
   "name": "python3"
  },
  "language_info": {
   "codemirror_mode": {
    "name": "ipython",
    "version": 3
   },
   "file_extension": ".py",
   "mimetype": "text/x-python",
   "name": "python",
   "nbconvert_exporter": "python",
   "pygments_lexer": "ipython3",
   "version": "3.9.6"
  }
 },
 "nbformat": 4,
 "nbformat_minor": 2
}
