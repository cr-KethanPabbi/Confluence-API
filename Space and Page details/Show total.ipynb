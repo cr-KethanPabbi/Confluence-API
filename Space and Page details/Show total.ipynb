{
 "cells": [
  {
   "cell_type": "code",
   "execution_count": 1,
   "metadata": {},
   "outputs": [
    {
     "name": "stderr",
     "output_type": "stream",
     "text": [
      "/Users/kethan/Library/Python/3.9/lib/python/site-packages/urllib3/__init__.py:34: NotOpenSSLWarning: urllib3 v2 only supports OpenSSL 1.1.1+, currently the 'ssl' module is compiled with 'LibreSSL 2.8.3'. See: https://github.com/urllib3/urllib3/issues/3020\n",
      "  warnings.warn(\n"
     ]
    }
   ],
   "source": [
    "import sys\n",
    "import requests\n",
    "sys.path.append(\"..\")  # Add the parent directory to the sys.path\n",
    "from config import CR_EMAIL, API_KEY, BASE_URL"
   ]
  },
  {
   "cell_type": "code",
   "execution_count": 4,
   "metadata": {},
   "outputs": [
    {
     "name": "stdout",
     "output_type": "stream",
     "text": [
      "\n",
      "Total unique spaces in Confluence: 0\n",
      "Total unique pages in Confluence: 0\n"
     ]
    },
    {
     "data": {
      "text/plain": [
       "{'total_unique_spaces': 0, 'total_unique_pages': 0}"
      ]
     },
     "execution_count": 4,
     "metadata": {},
     "output_type": "execute_result"
    }
   ],
   "source": [
    "def get_total_unique_spaces_and_pages_in_confluence():\n",
    "    email = CR_EMAIL\n",
    "    api_token = API_KEY\n",
    "    auth = (email, api_token)\n",
    "    base_url = \"https://cybereason.atlassian.net/wiki/rest/api/\"\n",
    "    unique_spaces = set()\n",
    "    total_unique_pages = 0\n",
    "\n",
    "    # Make request to Confluence API to get total number of spaces\n",
    "    limit_spaces = 10000  # Adjust the limit as needed\n",
    "    start_spaces = 0\n",
    "\n",
    "    while True:\n",
    "        spaces_response = requests.get(base_url + f\"space?start={start_spaces}&limit={limit_spaces}\", auth=auth)\n",
    "        spaces_data = spaces_response.json()\n",
    "        current_spaces = spaces_data.get('results', [])\n",
    "\n",
    "        if not current_spaces:\n",
    "            break\n",
    "\n",
    "        # Loop through each space\n",
    "        for space in current_spaces:\n",
    "            space_key = space['key']\n",
    "            space_name = space['name']\n",
    "            unique_spaces.add(space_key)\n",
    "\n",
    "            # Reset total_unique_pages counter for each space\n",
    "            total_unique_pages_space = 0\n",
    "\n",
    "            # Make request to Confluence API to get total number of pages for current space\n",
    "            pages_response = requests.get(base_url + f\"content?spaceKey={space_key}&limit=1\", auth=auth)\n",
    "            total_pages = pages_response.json().get('size', 0)\n",
    "\n",
    "            # Initialize variables for pagination\n",
    "            limit_pages = 10000  # Adjust the limit as needed\n",
    "            start_pages = 0\n",
    "\n",
    "            while start_pages < total_pages:\n",
    "                # Make request to Confluence API to fetch pages for current space with pagination\n",
    "                pages_response = requests.get(base_url + f\"content?spaceKey={space_key}&limit={limit_pages}&start={start_pages}\", auth=auth)\n",
    "                pages_data = pages_response.json().get('results', [])\n",
    "\n",
    "                # Count unique pages for current space\n",
    "                unique_pages = set(page['id'] for page in pages_data)\n",
    "                total_unique_pages_space += len(unique_pages)\n",
    "\n",
    "                # Increment start_pages for next page of results\n",
    "                start_pages += limit_pages\n",
    "\n",
    "            # Display space name and total unique pages for current space\n",
    "            print(f\"Space: {space_name}, Total Unique Pages: {total_unique_pages_space}\")\n",
    "\n",
    "            # Update total_unique_pages with unique pages for current space\n",
    "            total_unique_pages += total_unique_pages_space\n",
    "\n",
    "        # Increment start_spaces for next batch of spaces\n",
    "        start_spaces += limit_spaces\n",
    "\n",
    "        # If there are more spaces to fetch, continue from the last space\n",
    "        if 'next' in spaces_data.get('_links', {}):\n",
    "            next_url = spaces_data['_links']['next']\n",
    "            start_spaces = int(next_url.split('start=')[-1])\n",
    "\n",
    "    total_unique_spaces = len(unique_spaces)\n",
    "    print(\"\\nTotal unique spaces in Confluence:\", total_unique_spaces)\n",
    "    print(\"Total unique pages in Confluence:\", total_unique_pages)\n",
    "\n",
    "    return {\"total_unique_spaces\": total_unique_spaces, \"total_unique_pages\": total_unique_pages}\n",
    "\n",
    "get_total_unique_spaces_and_pages_in_confluence()\n"
   ]
  }
 ],
 "metadata": {
  "kernelspec": {
   "display_name": "Python 3",
   "language": "python",
   "name": "python3"
  },
  "language_info": {
   "codemirror_mode": {
    "name": "ipython",
    "version": 3
   },
   "file_extension": ".py",
   "mimetype": "text/x-python",
   "name": "python",
   "nbconvert_exporter": "python",
   "pygments_lexer": "ipython3",
   "version": "3.9.6"
  }
 },
 "nbformat": 4,
 "nbformat_minor": 2
}
